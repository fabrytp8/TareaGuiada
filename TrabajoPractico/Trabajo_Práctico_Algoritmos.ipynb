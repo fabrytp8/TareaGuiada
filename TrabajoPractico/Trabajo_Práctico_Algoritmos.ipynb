{
  "nbformat": 4,
  "nbformat_minor": 0,
  "metadata": {
    "colab": {
      "name": "Trabajo Práctico - Algoritmos.ipynb",
      "provenance": [],
      "collapsed_sections": [],
      "include_colab_link": true
    },
    "kernelspec": {
      "name": "python3",
      "display_name": "Python 3"
    }
  },
  "cells": [
    {
      "cell_type": "markdown",
      "metadata": {
        "id": "view-in-github",
        "colab_type": "text"
      },
      "source": [
        "<a href=\"https://colab.research.google.com/github/fabrytp8/TareaGuiada/blob/main/TrabajoPractico/Trabajo_Pr%C3%A1ctico_Algoritmos.ipynb\" target=\"_parent\"><img src=\"https://colab.research.google.com/assets/colab-badge.svg\" alt=\"Open In Colab\"/></a>"
      ]
    },
    {
      "cell_type": "markdown",
      "metadata": {
        "id": "hVbXYX-RfPWh"
      },
      "source": [
        "# Algoritmos de optimización - Seminario<br>\n",
        "Nombre y Apellidos:  Fabricio Tipantocta <br>\n",
        "Url: https://github.com/fabrytp8/TareaGuiada/blob/main/TrabajoPractico/Trabajo_Pr%C3%A1ctico_Algoritmos.ipynb<br>\n",
        "Problema:\n",
        ">Combinar cifras y operaciones\n",
        "\n",
        "**Problema 3. Combinar cifras y operaciones**<br>\n",
        "\n",
        "• El problema consiste en analizar el siguiente problema y diseñar un algoritmo que lo resuelva.<br>\n",
        "• Disponemos de las 9 cifras del 1 al 9 (excluimos el cero) y de los 4 signos básicos de las operaciones fundamentales: suma(+), resta(-), multiplicación(*) y división(/)<br>\n",
        "• Debemos combinarlos alternativamente sin repetir ninguno de ellos para obtener una cantidad dada. Un ejemplo sería para obtener el 4:<br>\n",
        "4+2-6/3*1 = 4<br>\n",
        "\n",
        "Debe analizarse el problema para encontrar todos los valores enteros posibles planteando las siguientes cuestiones:<br>\n",
        "- ¿Qué valor máximo y mínimo se pueden obtener según las condiciones del problema?<br>\n",
        "- ¿Es posible encontrar todos los valores enteros posibles entre dicho mínimo y máximo ?<br>\n",
        "• Nota: Es posible usar la función de python “eval” para evaluar una expresión:\n",
        "\n",
        "\n",
        "\n",
        "\n",
        "                                        "
      ]
    },
    {
      "cell_type": "code",
      "metadata": {
        "id": "AiskKkzZfy4e"
      },
      "source": [
        ""
      ],
      "execution_count": null,
      "outputs": []
    },
    {
      "cell_type": "markdown",
      "metadata": {
        "id": "3_-exlrTgLd-"
      },
      "source": [
        "(*)¿Cuantas posibilidades hay sin tener en cuenta las restricciones?<br>\n",
        "\n",
        "\n",
        "\n",
        "¿Cuantas posibilidades hay teniendo en cuenta todas las restricciones.\n",
        "\n",
        "\n"
      ]
    },
    {
      "cell_type": "markdown",
      "source": [
        "Sin tener en cuenta las restricciones se deben permutar 5 dígitos de 9 cifras dando un total de 15.120 posibilidades, se toma en cuenta también las permutaciones de los signos de suma, resta, multiplicación y división de 4 son 24 combinaciones, y multiplicándolos da un total de: 15.120 x 24 =362.880<br>\n",
        "\n",
        "Con el algoritmo propuesto y tomando en cuenta solo los números enteros de cada permutacion de dígitos y permutación de signos, dando un total de 20 respuestas.\n"
      ],
      "metadata": {
        "id": "FjEf4zpCmCUS"
      }
    },
    {
      "cell_type": "markdown",
      "metadata": {
        "id": "dzynfVJahHoY"
      },
      "source": [
        "Modelo para el espacio de soluciones<br>\n",
        "(*) ¿Cual es la estructura de datos que mejor se adapta al problema? Argumentalo.(Es posible que hayas elegido una al principio y veas la necesidad de cambiar, arguentalo)\n"
      ]
    },
    {
      "cell_type": "markdown",
      "source": [
        "En este problema manejé arreglos por recursividad para generar todas las combinaciones pertinentes de 5 cifras de las 9 que se tiene."
      ],
      "metadata": {
        "id": "0GivOA-8vaer"
      }
    },
    {
      "cell_type": "markdown",
      "metadata": {
        "id": "7Z9U2W7bi-XS"
      },
      "source": [
        "Según el modelo para el espacio de soluciones<br>\n",
        "(*)¿Cual es la función objetivo?\n",
        "\n",
        "(*)¿Es un problema de maximización o minimización?"
      ]
    },
    {
      "cell_type": "markdown",
      "metadata": {
        "id": "hBalWLM7j1_d"
      },
      "source": [
        "La función objetivo son permutaciones, una para los dígitos se escoge varias combinaciones de 5 elementos de un total de 9 y otra para las operaciones un total de 4:<br>\n",
        "![WhatsApp Image 2022-02-13 at 5.25.48 AM.jpeg](data:image/jpeg;base64,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)\n",
        "<br>\n",
        "Se solicita maximizar y minimizar el problema, ya que se epide tanto el máximo valor de alguna combinación, y de igual manera el valor mínimo. "
      ]
    },
    {
      "cell_type": "code",
      "metadata": {
        "id": "pDA-rg3Gj5Lz"
      },
      "source": [
        ""
      ],
      "execution_count": null,
      "outputs": []
    },
    {
      "cell_type": "markdown",
      "metadata": {
        "id": "rlnTYgY1j6I2"
      },
      "source": [
        "Diseña un algoritmo para resolver el problema por fuerza bruta"
      ]
    },
    {
      "cell_type": "markdown",
      "metadata": {
        "id": "70rDgxYXkC8r"
      },
      "source": [
        "Respuesta"
      ]
    },
    {
      "cell_type": "code",
      "metadata": {
        "id": "CJb5sQ0qkENy",
        "colab": {
          "base_uri": "https://localhost:8080/"
        },
        "outputId": "23507c73-b730-44ef-8377-38b614ac417a"
      },
      "source": [
        "# solo las permutaciones sin recursividad\n",
        "x=[1,2,3,4,5,6,7,8,9]\n",
        "y=[]\n",
        "cnt=0\n",
        "for i in x:\n",
        "  for j in x:\n",
        "    for k in x:\n",
        "      for m in x:\n",
        "        for n in x:\n",
        "          if i!=j and i!=k and i!=m and i!=n and \\\n",
        "            j!=k and j!=m and j!=n and \\\n",
        "            k!=m and k!=n and m!=n:\n",
        "            orden = [i,j,k,m,n]\n",
        "            cnt +=1\n",
        "            y.append(orden)\n",
        "            # print('{:3d} :{}'.format(cnt,orden))\n",
        "print(np.array(y))"
      ],
      "execution_count": 17,
      "outputs": [
        {
          "output_type": "stream",
          "name": "stdout",
          "text": [
            "[[1 2 3 4 5]\n",
            " [1 2 3 4 6]\n",
            " [1 2 3 4 7]\n",
            " ...\n",
            " [9 8 7 6 3]\n",
            " [9 8 7 6 4]\n",
            " [9 8 7 6 5]]\n"
          ]
        }
      ]
    },
    {
      "cell_type": "markdown",
      "metadata": {
        "id": "tgrnsC2nkFa8"
      },
      "source": [
        "Calcula la complejidad del algoritmo por fuerza bruta"
      ]
    },
    {
      "cell_type": "markdown",
      "metadata": {
        "id": "9eUd3xwckP68"
      },
      "source": [
        "O(n^5)"
      ]
    },
    {
      "cell_type": "code",
      "metadata": {
        "id": "rvZWwL-ckRST"
      },
      "source": [
        ""
      ],
      "execution_count": null,
      "outputs": []
    },
    {
      "cell_type": "markdown",
      "metadata": {
        "id": "txbrmLmskReM"
      },
      "source": [
        "(*)Diseña un algoritmo que mejore la complejidad del algortimo por fuerza bruta. Argumenta porque crees que mejora el algoritmo por fuerza bruta"
      ]
    },
    {
      "cell_type": "markdown",
      "metadata": {
        "id": "hLrVwt5QkZPD"
      },
      "source": [
        "Respuesta"
      ]
    },
    {
      "cell_type": "code",
      "metadata": {
        "id": "m1eyM21Vkabg",
        "colab": {
          "base_uri": "https://localhost:8080/"
        },
        "outputId": "c9bd6b9a-cad2-401e-8d86-9bd69b078398"
      },
      "source": [
        "import numpy as np\n",
        "# -------------------------------------------------------------------\n",
        "# -------------------------------------------------------------------\n",
        "def comp(x):\n",
        "    z=list(x)\n",
        "    n=[]\n",
        "    m=[]\n",
        "    for i in x:\n",
        "        if i not in n:\n",
        "            n.append(i)\n",
        "        else:\n",
        "            m.append(i)\n",
        "    if len(m)==0:\n",
        "        return True\n",
        "    else:\n",
        "        return False\n",
        "\n",
        "def printK(set,k):\n",
        "    n = len(set)\n",
        "    printK1(set,\"\",n,k)\n",
        "\n",
        "def printK1(set,perfix,n,k):\n",
        "    global y \n",
        "    if(k==0):\n",
        "        y.append(perfix)\n",
        "        return \n",
        "    for i in range(n):\n",
        "        newPerfix = perfix + set[i]\n",
        "        printK1(set, newPerfix,n,k-1)\n",
        "        \n",
        "def reduce(lista):\n",
        "    a=[]\n",
        "    for i in y:\n",
        "        if comp(i):\n",
        "            a.append(i)\n",
        "    return a\n",
        "\n",
        "def opera(m,n):\n",
        "    k=list(m)\n",
        "    l=list(n)\n",
        "    # return a[0]-a[1]+a[2]/a[3]*a[4]\n",
        "    return (k[0]+l[0]+k[1]+l[1]+k[2]+l[2]+k[3]+l[3]+k[4])\n",
        "# -------------------------------------------------------------------\n",
        "# -------------------------------------------------------------------\n",
        "\n",
        "lista = ['1','2','3','4','5','6','7','8','9']\n",
        "k=5\n",
        "y=[]\n",
        "printK(lista,k)\n",
        "combinacion = y.copy()\n",
        "combinacion=reduce(combinacion)\n",
        "\n",
        "lista2 = ['+','-','*','/']\n",
        "k=4\n",
        "y=[]\n",
        "printK(lista2,k)\n",
        "operaciones = y.copy()\n",
        "operaciones=reduce(operaciones)\n",
        "dat=[]\n",
        "\n",
        "# -------------------------------------------------------------------\n",
        "# -------------------------------------------------------------------\n",
        "for i in operaciones:\n",
        "    h=[]\n",
        "    o=[]\n",
        "    for j in combinacion:\n",
        "        if eval(opera(j,i))%2==0 or eval(opera(j,i))%2==1: \n",
        "            h.append(eval(opera(j,i)))\n",
        "            o.append(opera(j,i))\n",
        "            \n",
        "    max_value = max(h)\n",
        "    min_value = min(h)\n",
        "    val_max = o[h.index(max_value)]\n",
        "    val_min = o[h.index(min_value)]\n",
        "    dat.append([int(max_value),int(min_value),val_max,val_min])\n",
        "    \n",
        "dat=np.array(dat)\n",
        "a=[]\n",
        "b=[]\n",
        "for i in dat:\n",
        "    a.append(int(i[0]))\n",
        "    b.append(int(i[1]))\n",
        "a=max(a)\n",
        "b=min(b)\n",
        "c=[]\n",
        "for i in dat:\n",
        "    if i[0] == str(a):\n",
        "        c.append(i)\n",
        "for i in dat:\n",
        "    if i[1] == str(b):\n",
        "        c.append(i)\n",
        "# -------------------------------------------------------------------\n",
        "# -------------------------------------------------------------------\n",
        "\n",
        "print(np.array(c))        "
      ],
      "execution_count": 7,
      "outputs": [
        {
          "output_type": "stream",
          "name": "stdout",
          "text": [
            "[['77' '1' '7+8*9-2/1' '4+2*3-9/1']\n",
            " ['77' '-7' '7+8*9/1-2' '1+2*3/6-9']\n",
            " ['77' '-7' '7+8/1*9-2' '1+2/6*3-9']\n",
            " ['77' '-7' '7-2+8*9/1' '1-9+2*3/6']\n",
            " ['77' '-7' '7-2+8/1*9' '1-9+2/6*3']\n",
            " ['77' '1' '7-2/1+8*9' '4-9/1+2*3']\n",
            " ['77' '1' '8*9+7-2/1' '2*3+4-9/1']\n",
            " ['77' '-5' '8*9+7/1-2' '1*2+6/3-9']\n",
            " ['77' '-5' '8*9-2+7/1' '1*2-9+6/3']\n",
            " ['77' '1' '8*9-2/1+7' '2*3-9/1+4']\n",
            " ['77' '-7' '8*9/1+7-2' '2*3/6+1-9']\n",
            " ['77' '-7' '8*9/1-2+7' '2*3/6-9+1']\n",
            " ['77' '-5' '7/1+8*9-2' '6/3+1*2-9']\n",
            " ['77' '-5' '7/1-2+8*9' '6/3-9+1*2']\n",
            " ['77' '-7' '8/1*9+7-2' '2/6*3+1-9']\n",
            " ['77' '-7' '8/1*9-2+7' '2/6*3-9+1']\n",
            " ['11' '-69' '8+9/1-2*3' '1+4/2-8*9']\n",
            " ['11' '-69' '8-2*3+9/1' '1-8*9+4/2']\n",
            " ['11' '-69' '8/1+9-2*3' '4/2+1-8*9']\n",
            " ['11' '-69' '8/1-2*3+9' '4/2-8*9+1']]\n"
          ]
        }
      ]
    },
    {
      "cell_type": "markdown",
      "metadata": {
        "id": "eGDB4K6uk1iN"
      },
      "source": [
        "(*)Calcula la complejidad del algoritmo "
      ]
    },
    {
      "cell_type": "markdown",
      "metadata": {
        "id": "NhpTh_BPk1ms"
      },
      "source": [
        "Respuesta: O(nlog(n))"
      ]
    },
    {
      "cell_type": "code",
      "metadata": {
        "id": "nREzhkStlCq8"
      },
      "source": [
        ""
      ],
      "execution_count": 4,
      "outputs": []
    },
    {
      "cell_type": "markdown",
      "metadata": {
        "id": "3M6QjTsSkmYe"
      },
      "source": [
        "Según el problema (y tenga sentido), diseña un juego de datos de entrada aleatorios"
      ]
    },
    {
      "cell_type": "markdown",
      "metadata": {
        "id": "Jc3_OlyNkvjZ"
      },
      "source": [
        "Respuesta"
      ]
    },
    {
      "cell_type": "code",
      "metadata": {
        "id": "sJ-N2etjkyWc"
      },
      "source": [
        "x=[1,2,3,4,5,6,7,8,9]"
      ],
      "execution_count": 8,
      "outputs": []
    },
    {
      "cell_type": "markdown",
      "metadata": {
        "id": "zy5ZROmjlGo1"
      },
      "source": [
        "Aplica el algoritmo al juego de datos generado"
      ]
    },
    {
      "cell_type": "markdown",
      "metadata": {
        "id": "_Cmj-PVylMsa"
      },
      "source": [
        "Respuesta"
      ]
    },
    {
      "cell_type": "code",
      "metadata": {
        "id": "Jkx8GeiYlUz1",
        "colab": {
          "base_uri": "https://localhost:8080/"
        },
        "outputId": "f9a1cf97-9170-4b82-9f97-8de6ab6c519c"
      },
      "source": [
        "k=5  # permutaciones de n cifras \n",
        "y=[]\n",
        "printK(lista,k)\n",
        "combinacion = y.copy()\n",
        "combinacion=reduce(combinacion)\n",
        "print(np.array(combinacion))"
      ],
      "execution_count": 14,
      "outputs": [
        {
          "output_type": "stream",
          "name": "stdout",
          "text": [
            "['12345' '12346' '12347' ... '98763' '98764' '98765']\n"
          ]
        }
      ]
    },
    {
      "cell_type": "markdown",
      "metadata": {
        "id": "eTFWUJQrtGcv"
      },
      "source": [
        "Enumera las referencias que has utilizado(si ha sido necesario) para llevar a cabo el trabajo"
      ]
    },
    {
      "cell_type": "markdown",
      "metadata": {
        "id": "YKQ_mRBttWsP"
      },
      "source": [
        "Seha utilizado para describir el algoritmo la técnica de vuelta atras, ya que para realizar las permutaciones tiene que realizar la combinación con cada uno de los elementos de la lista de entrada que son 9 cifras pero a las cualses debe haber una combinación de 5 elementos."
      ]
    },
    {
      "cell_type": "markdown",
      "metadata": {
        "id": "kAkDPUyRtYyH"
      },
      "source": [
        "Describe brevemente las lineas de como crees que es posible avanzar en el estudio del problema. Ten en cuenta incluso posibles variaciones del problema y/o variaciones al alza del tamaño"
      ]
    },
    {
      "cell_type": "markdown",
      "metadata": {
        "id": "IE0uZmo-tZu-"
      },
      "source": [
        "def printK1(set,perfix,n,k):<br>\n",
        "    global y <br>\n",
        "    if(k==0):<br>\n",
        "        y.append(perfix)<br>\n",
        "        return <br>\n",
        "    for i in range(n):<br>\n",
        "        newPerfix = perfix + set[i]<br>\n",
        "        printK1(set, newPerfix,n,k-1)<br>\n",
        "<br>\n",
        "\n",
        "Por recursividad se toma cada cifra y se lo va combinando para obtener una lista de 5 elementos, esto cambia cuando se tiene una gran cantidad de permutaciones que realizar ya que depende mucho de uso de memoria para ejecutar las operaciones. Se podría mejorar con otra técnica como divide y venceras para que el problema minimice errores de memoria cuando son muchas permutaciones."
      ]
    },
    {
      "cell_type": "code",
      "source": [
        ""
      ],
      "metadata": {
        "id": "ouboL1Ss3SJp"
      },
      "execution_count": null,
      "outputs": []
    }
  ]
}